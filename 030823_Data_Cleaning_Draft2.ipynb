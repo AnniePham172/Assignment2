{
 "cells": [
  {
   "cell_type": "code",
   "execution_count": 1,
   "metadata": {},
   "outputs": [],
   "source": [
    "#ASSIGNMENT 2"
   ]
  },
  {
   "cell_type": "code",
   "execution_count": 2,
   "metadata": {},
   "outputs": [],
   "source": [
    "#1. Load library & dataset\n",
    "import pandas as pd"
   ]
  },
  {
   "cell_type": "code",
   "execution_count": 3,
   "metadata": {},
   "outputs": [],
   "source": [
    "data_price_demand = pd.read_csv('price_and_demand.csv', header=None)\n",
    "data_weather = pd.read_csv('weather.csv', encoding= 'unicode_escape')"
   ]
  },
  {
   "cell_type": "code",
   "execution_count": 4,
   "metadata": {},
   "outputs": [],
   "source": [
    "#1. DATA CLEANING"
   ]
  },
  {
   "cell_type": "code",
   "execution_count": 5,
   "metadata": {},
   "outputs": [],
   "source": [
    "#1.1 data_price_demand"
   ]
  },
  {
   "cell_type": "code",
   "execution_count": 6,
   "metadata": {},
   "outputs": [
    {
     "data": {
      "text/html": [
       "<div>\n",
       "<style scoped>\n",
       "    .dataframe tbody tr th:only-of-type {\n",
       "        vertical-align: middle;\n",
       "    }\n",
       "\n",
       "    .dataframe tbody tr th {\n",
       "        vertical-align: top;\n",
       "    }\n",
       "\n",
       "    .dataframe thead th {\n",
       "        text-align: right;\n",
       "    }\n",
       "</style>\n",
       "<table border=\"1\" class=\"dataframe\">\n",
       "  <thead>\n",
       "    <tr style=\"text-align: right;\">\n",
       "      <th></th>\n",
       "      <th>0</th>\n",
       "      <th>1</th>\n",
       "      <th>2</th>\n",
       "      <th>3</th>\n",
       "      <th>4</th>\n",
       "    </tr>\n",
       "  </thead>\n",
       "  <tbody>\n",
       "    <tr>\n",
       "      <th>0</th>\n",
       "      <td>VIC1</td>\n",
       "      <td>1/11/2022 0:30</td>\n",
       "      <td>4,178.18</td>\n",
       "      <td>8.94</td>\n",
       "      <td>TRADE</td>\n",
       "    </tr>\n",
       "    <tr>\n",
       "      <th>1</th>\n",
       "      <td>VIC1</td>\n",
       "      <td>1/11/2022 1:00</td>\n",
       "      <td>4,086.02</td>\n",
       "      <td>0.14</td>\n",
       "      <td>TRADE</td>\n",
       "    </tr>\n",
       "    <tr>\n",
       "      <th>2</th>\n",
       "      <td>VIC1</td>\n",
       "      <td>1/11/2022 1:30</td>\n",
       "      <td>4,033.37</td>\n",
       "      <td>0.02</td>\n",
       "      <td>TRADE</td>\n",
       "    </tr>\n",
       "    <tr>\n",
       "      <th>3</th>\n",
       "      <td>VIC1</td>\n",
       "      <td>1/11/2022 2:00</td>\n",
       "      <td>3,985.64</td>\n",
       "      <td>0.00</td>\n",
       "      <td>TRADE</td>\n",
       "    </tr>\n",
       "    <tr>\n",
       "      <th>4</th>\n",
       "      <td>VIC1</td>\n",
       "      <td>1/11/2022 2:30</td>\n",
       "      <td>3,885.64</td>\n",
       "      <td>0.02</td>\n",
       "      <td>TRADE</td>\n",
       "    </tr>\n",
       "  </tbody>\n",
       "</table>\n",
       "</div>"
      ],
      "text/plain": [
       "      0               1         2     3      4\n",
       "0  VIC1  1/11/2022 0:30  4,178.18  8.94  TRADE\n",
       "1  VIC1  1/11/2022 1:00  4,086.02  0.14  TRADE\n",
       "2  VIC1  1/11/2022 1:30  4,033.37  0.02  TRADE\n",
       "3  VIC1  1/11/2022 2:00  3,985.64  0.00  TRADE\n",
       "4  VIC1  1/11/2022 2:30  3,885.64  0.02  TRADE"
      ]
     },
     "metadata": {},
     "output_type": "display_data"
    }
   ],
   "source": [
    "display(data_price_demand.head())"
   ]
  },
  {
   "cell_type": "code",
   "execution_count": 7,
   "metadata": {},
   "outputs": [
    {
     "name": "stdout",
     "output_type": "stream",
     "text": [
      "0     object\n",
      "1     object\n",
      "2     object\n",
      "3    float64\n",
      "4     object\n",
      "dtype: object\n"
     ]
    }
   ],
   "source": [
    "print(data_price_demand.dtypes)"
   ]
  },
  {
   "cell_type": "code",
   "execution_count": 8,
   "metadata": {},
   "outputs": [],
   "source": [
    "#Add header name to the dataframe:\n",
    "header_names = ['State', 'Date_Time', 'Demand', 'Price', 'Type']\n",
    "data_price_demand.columns = header_names"
   ]
  },
  {
   "cell_type": "code",
   "execution_count": 9,
   "metadata": {},
   "outputs": [],
   "source": [
    "# Convert the date column to a datetime data type\n",
    "data_price_demand['Date_Time'] = pd.to_datetime(data_price_demand['Date_Time'], format='%d/%m/%Y %H:%M')"
   ]
  },
  {
   "cell_type": "code",
   "execution_count": 10,
   "metadata": {},
   "outputs": [],
   "source": [
    "# Convert the Demand collumn into float\n",
    "data_price_demand['Demand'] = data_price_demand['Demand'].str.replace(',', '').astype(float)"
   ]
  },
  {
   "cell_type": "code",
   "execution_count": 11,
   "metadata": {},
   "outputs": [
    {
     "name": "stdout",
     "output_type": "stream",
     "text": [
      "State                object\n",
      "Date_Time    datetime64[ns]\n",
      "Demand              float64\n",
      "Price               float64\n",
      "Type                 object\n",
      "dtype: object\n"
     ]
    }
   ],
   "source": [
    "#Re-examine datatype:\n",
    "print(data_price_demand.dtypes)"
   ]
  },
  {
   "cell_type": "code",
   "execution_count": 12,
   "metadata": {},
   "outputs": [
    {
     "name": "stdout",
     "output_type": "stream",
     "text": [
      "State        0\n",
      "Date_Time    0\n",
      "Demand       0\n",
      "Price        0\n",
      "Type         0\n",
      "dtype: int64\n"
     ]
    }
   ],
   "source": [
    "# Missing value\n",
    "print(data_price_demand.isnull().sum())"
   ]
  },
  {
   "cell_type": "code",
   "execution_count": 13,
   "metadata": {},
   "outputs": [
    {
     "name": "stdout",
     "output_type": "stream",
     "text": [
      "'State': ['VIC1']\n",
      "'Date_Time': ['2022-11-01T00:30:00.000000000' '2022-11-01T01:00:00.000000000'\n",
      " '2022-11-01T01:30:00.000000000' ... '2023-04-23T23:00:00.000000000'\n",
      " '2023-04-23T23:30:00.000000000' '2023-04-24T00:00:00.000000000']\n",
      "'Demand': [4178.18 4086.02 4033.37 ... 4472.49 4621.36 4395.96]\n",
      "'Price': [8.940e+00 1.400e-01 2.000e-02 ... 8.125e+01 9.397e+01 8.396e+01]\n",
      "'Type': ['TRADE']\n"
     ]
    }
   ],
   "source": [
    "# Unique values in each columns:\n",
    "for column in data_price_demand.columns:\n",
    "    unique_values = data_price_demand[column].unique()\n",
    "    print(f\"'{column}': {unique_values}\")"
   ]
  },
  {
   "cell_type": "code",
   "execution_count": 14,
   "metadata": {},
   "outputs": [],
   "source": [
    "#All states are VICTORIA in TRADE type.\n",
    "#Calculate total demand for each day:\n",
    "data_price_demand['Date'] = data_price_demand['Date_Time'].dt.date # Extract only the date from the datetime"
   ]
  },
  {
   "cell_type": "code",
   "execution_count": 15,
   "metadata": {},
   "outputs": [
    {
     "name": "stdout",
     "output_type": "stream",
     "text": [
      "0       2022-11-01\n",
      "1       2022-11-01\n",
      "2       2022-11-01\n",
      "3       2022-11-01\n",
      "4       2022-11-01\n",
      "           ...    \n",
      "8347    2023-04-23\n",
      "8348    2023-04-23\n",
      "8349    2023-04-23\n",
      "8350    2023-04-23\n",
      "8351    2023-04-24\n",
      "Name: Date, Length: 8352, dtype: object\n"
     ]
    }
   ],
   "source": [
    "print(data_price_demand['Date'])"
   ]
  },
  {
   "cell_type": "code",
   "execution_count": 16,
   "metadata": {},
   "outputs": [],
   "source": [
    "sum_of_demand = data_price_demand.groupby('Date')['Demand'].sum().round(2)"
   ]
  },
  {
   "cell_type": "code",
   "execution_count": 17,
   "metadata": {},
   "outputs": [
    {
     "name": "stdout",
     "output_type": "stream",
     "text": [
      "Date\n",
      "2022-11-01    207429.46\n",
      "2022-11-02    233630.93\n",
      "2022-11-03    235672.34\n",
      "2022-11-04    224895.28\n",
      "2022-11-05    189190.35\n",
      "                ...    \n",
      "2023-04-20    227925.10\n",
      "2023-04-21    232043.13\n",
      "2023-04-22    207431.82\n",
      "2023-04-23    195560.35\n",
      "2023-04-24      4395.96\n",
      "Name: Demand, Length: 175, dtype: float64\n"
     ]
    }
   ],
   "source": [
    "print(sum_of_demand)"
   ]
  },
  {
   "cell_type": "code",
   "execution_count": 18,
   "metadata": {},
   "outputs": [],
   "source": [
    "daily_demand_df = sum_of_demand.reset_index()"
   ]
  },
  {
   "cell_type": "code",
   "execution_count": 19,
   "metadata": {},
   "outputs": [
    {
     "name": "stdout",
     "output_type": "stream",
     "text": [
      "           Date     Demand\n",
      "0    2022-11-01  207429.46\n",
      "1    2022-11-02  233630.93\n",
      "2    2022-11-03  235672.34\n",
      "3    2022-11-04  224895.28\n",
      "4    2022-11-05  189190.35\n",
      "..          ...        ...\n",
      "170  2023-04-20  227925.10\n",
      "171  2023-04-21  232043.13\n",
      "172  2023-04-22  207431.82\n",
      "173  2023-04-23  195560.35\n",
      "174  2023-04-24    4395.96\n",
      "\n",
      "[175 rows x 2 columns]\n"
     ]
    }
   ],
   "source": [
    "#Create a new dataframe with date and sum of demand:\n",
    "print(daily_demand_df)"
   ]
  },
  {
   "cell_type": "code",
   "execution_count": 20,
   "metadata": {},
   "outputs": [
    {
     "name": "stdout",
     "output_type": "stream",
     "text": [
      "Date       object\n",
      "Demand    float64\n",
      "dtype: object\n"
     ]
    }
   ],
   "source": [
    "print(daily_demand_df.dtypes)"
   ]
  },
  {
   "cell_type": "code",
   "execution_count": 21,
   "metadata": {},
   "outputs": [],
   "source": [
    "#Convert Date to datetime\n",
    "daily_demand_df['Date'] = pd.to_datetime(daily_demand_df['Date'])"
   ]
  },
  {
   "cell_type": "code",
   "execution_count": 22,
   "metadata": {},
   "outputs": [
    {
     "name": "stdout",
     "output_type": "stream",
     "text": [
      "Date      datetime64[ns]\n",
      "Demand           float64\n",
      "dtype: object\n"
     ]
    }
   ],
   "source": [
    "print(daily_demand_df.dtypes)"
   ]
  },
  {
   "cell_type": "code",
   "execution_count": 23,
   "metadata": {},
   "outputs": [],
   "source": [
    "daily_demand_df.to_csv(\"daily_demand_df.csv\", index=False)"
   ]
  },
  {
   "cell_type": "code",
   "execution_count": 24,
   "metadata": {},
   "outputs": [],
   "source": [
    "#Daily total usage == maximum daily total usage in this assignment"
   ]
  },
  {
   "cell_type": "code",
   "execution_count": 25,
   "metadata": {},
   "outputs": [
    {
     "name": "stdout",
     "output_type": "stream",
     "text": [
      "                               Location        Date  Minimum temperature (°C)  \\\n",
      "0    Melbourne (Olympic Park), Victoria   1/11/2022                       8.5   \n",
      "1    Melbourne (Olympic Park), Victoria   2/11/2022                       6.9   \n",
      "2    Melbourne (Olympic Park), Victoria   3/11/2022                       9.1   \n",
      "3    Melbourne (Olympic Park), Victoria   4/11/2022                      10.2   \n",
      "4    Melbourne (Olympic Park), Victoria   5/11/2022                      11.8   \n",
      "..                                  ...         ...                       ...   \n",
      "170  Melbourne (Olympic Park), Victoria  20/04/2023                       7.8   \n",
      "171  Melbourne (Olympic Park), Victoria  21/04/2023                      11.3   \n",
      "172  Melbourne (Olympic Park), Victoria  22/04/2023                      14.6   \n",
      "173  Melbourne (Olympic Park), Victoria  23/04/2023                      14.8   \n",
      "174  Melbourne (Olympic Park), Victoria  24/04/2023                      11.0   \n",
      "\n",
      "     Maximum temperature (°C)  Rainfall (mm)  Evaporation (mm)  \\\n",
      "0                        13.3            3.0               NaN   \n",
      "1                        15.7            2.8               NaN   \n",
      "2                        15.4            0.4               NaN   \n",
      "3                        17.8            0.2               NaN   \n",
      "4                        22.7            0.0               NaN   \n",
      "..                        ...            ...               ...   \n",
      "170                      18.5            0.0               NaN   \n",
      "171                      19.0            0.0               NaN   \n",
      "172                      19.2            0.0               NaN   \n",
      "173                      19.0            0.0               NaN   \n",
      "174                       NaN            0.0               NaN   \n",
      "\n",
      "     Sunshine (hours) Direction of maximum wind gust   \\\n",
      "0                 NaN                              SW   \n",
      "1                 NaN                             SSW   \n",
      "2                 NaN                             SSW   \n",
      "3                 NaN                               S   \n",
      "4                 NaN                               N   \n",
      "..                ...                             ...   \n",
      "170               NaN                             SSW   \n",
      "171               NaN                             SSW   \n",
      "172               NaN                             SSW   \n",
      "173               NaN                             SSW   \n",
      "174               NaN                             NaN   \n",
      "\n",
      "     Speed of maximum wind gust (km/h) Time of maximum wind gust  ...  \\\n",
      "0                                 44.0                     11:36  ...   \n",
      "1                                 43.0                     11:33  ...   \n",
      "2                                 31.0                      8:07  ...   \n",
      "3                                 24.0                     14:50  ...   \n",
      "4                                 31.0                     11:58  ...   \n",
      "..                                 ...                       ...  ...   \n",
      "170                               17.0                     12:47  ...   \n",
      "171                               13.0                     10:48  ...   \n",
      "172                               22.0                     16:09  ...   \n",
      "173                               26.0                     15:45  ...   \n",
      "174                                NaN                       NaN  ...   \n",
      "\n",
      "     9am cloud amount (oktas)  9am wind direction  9am wind speed (km/h)  \\\n",
      "0                         NaN                  NW                     13   \n",
      "1                         NaN                   W                      9   \n",
      "2                         NaN                 SSW                      9   \n",
      "3                         NaN                 WSW                      6   \n",
      "4                         NaN                   N                      9   \n",
      "..                        ...                 ...                    ...   \n",
      "170                       NaN                 NNE                      7   \n",
      "171                       NaN                  NE                      6   \n",
      "172                       NaN                  SW                      6   \n",
      "173                       NaN                 SSE                      7   \n",
      "174                       NaN                  NE                      9   \n",
      "\n",
      "    9am MSL pressure (hPa) 3pm Temperature (°C)  3pm relative humidity (%)  \\\n",
      "0                    991.3                 13.2                       59.0   \n",
      "1                   1006.7                 15.1                       54.0   \n",
      "2                   1019.2                 13.8                       67.0   \n",
      "3                   1028.1                 16.9                       56.0   \n",
      "4                   1026.3                 18.8                       65.0   \n",
      "..                     ...                  ...                        ...   \n",
      "170                 1026.8                 17.5                       58.0   \n",
      "171                 1030.5                 18.6                       64.0   \n",
      "172                 1031.9                 18.8                       64.0   \n",
      "173                 1034.4                 17.8                       71.0   \n",
      "174                 1032.5                  NaN                        NaN   \n",
      "\n",
      "     3pm cloud amount (oktas)  3pm wind direction  3pm wind speed (km/h)  \\\n",
      "0                         NaN                 WNW                   11.0   \n",
      "1                         NaN                 SSW                   13.0   \n",
      "2                         NaN                 SSW                    9.0   \n",
      "3                         NaN                  SW                    9.0   \n",
      "4                         NaN                  SW                   11.0   \n",
      "..                        ...                 ...                    ...   \n",
      "170                       NaN                  SW                    4.0   \n",
      "171                       NaN                 SSE                    2.0   \n",
      "172                       NaN                 SSW                   11.0   \n",
      "173                       NaN                 SSW                   13.0   \n",
      "174                       NaN                 NaN                    NaN   \n",
      "\n",
      "    3pm MSL pressure (hPa)  \n",
      "0                    991.5  \n",
      "1                   1008.4  \n",
      "2                   1021.3  \n",
      "3                   1026.6  \n",
      "4                   1023.2  \n",
      "..                     ...  \n",
      "170                 1025.5  \n",
      "171                 1029.2  \n",
      "172                 1029.7  \n",
      "173                 1032.4  \n",
      "174                    NaN  \n",
      "\n",
      "[175 rows x 22 columns]\n"
     ]
    }
   ],
   "source": [
    "print(data_weather)"
   ]
  },
  {
   "cell_type": "code",
   "execution_count": 26,
   "metadata": {},
   "outputs": [
    {
     "data": {
      "text/plain": [
       "(175, 22)"
      ]
     },
     "execution_count": 26,
     "metadata": {},
     "output_type": "execute_result"
    }
   ],
   "source": [
    "data_weather.shape"
   ]
  },
  {
   "cell_type": "code",
   "execution_count": 27,
   "metadata": {},
   "outputs": [
    {
     "name": "stdout",
     "output_type": "stream",
     "text": [
      "Location                               0\n",
      "Date                                   0\n",
      "Minimum temperature (°C)               0\n",
      "Maximum temperature (°C)               1\n",
      "Rainfall (mm)                          0\n",
      "Evaporation (mm)                     175\n",
      "Sunshine (hours)                     175\n",
      "Direction of maximum wind gust         1\n",
      "Speed of maximum wind gust (km/h)      1\n",
      "Time of maximum wind gust              1\n",
      "9am Temperature (°C)                   0\n",
      "9am relative humidity (%)              0\n",
      "9am cloud amount (oktas)             175\n",
      "9am wind direction                     0\n",
      "9am wind speed (km/h)                  0\n",
      "9am MSL pressure (hPa)                 0\n",
      "3pm Temperature (°C)                   1\n",
      "3pm relative humidity (%)              1\n",
      "3pm cloud amount (oktas)             175\n",
      "3pm wind direction                     1\n",
      "3pm wind speed (km/h)                  1\n",
      "3pm MSL pressure (hPa)                 1\n",
      "dtype: int64\n"
     ]
    }
   ],
   "source": [
    "print(data_weather.isnull().sum())"
   ]
  },
  {
   "cell_type": "code",
   "execution_count": 28,
   "metadata": {},
   "outputs": [],
   "source": [
    "#Drop empty columns\n",
    "data_weather.drop(columns=['Evaporation (mm)', 'Sunshine (hours)', '9am cloud amount (oktas)', '3pm cloud amount (oktas)'], inplace=True)"
   ]
  },
  {
   "cell_type": "code",
   "execution_count": 29,
   "metadata": {},
   "outputs": [
    {
     "data": {
      "text/html": [
       "<div>\n",
       "<style scoped>\n",
       "    .dataframe tbody tr th:only-of-type {\n",
       "        vertical-align: middle;\n",
       "    }\n",
       "\n",
       "    .dataframe tbody tr th {\n",
       "        vertical-align: top;\n",
       "    }\n",
       "\n",
       "    .dataframe thead th {\n",
       "        text-align: right;\n",
       "    }\n",
       "</style>\n",
       "<table border=\"1\" class=\"dataframe\">\n",
       "  <thead>\n",
       "    <tr style=\"text-align: right;\">\n",
       "      <th></th>\n",
       "      <th>Location</th>\n",
       "      <th>Date</th>\n",
       "      <th>Minimum temperature (°C)</th>\n",
       "      <th>Maximum temperature (°C)</th>\n",
       "      <th>Rainfall (mm)</th>\n",
       "      <th>Direction of maximum wind gust</th>\n",
       "      <th>Speed of maximum wind gust (km/h)</th>\n",
       "      <th>Time of maximum wind gust</th>\n",
       "      <th>9am Temperature (°C)</th>\n",
       "      <th>9am relative humidity (%)</th>\n",
       "      <th>9am wind direction</th>\n",
       "      <th>9am wind speed (km/h)</th>\n",
       "      <th>9am MSL pressure (hPa)</th>\n",
       "      <th>3pm Temperature (°C)</th>\n",
       "      <th>3pm relative humidity (%)</th>\n",
       "      <th>3pm wind direction</th>\n",
       "      <th>3pm wind speed (km/h)</th>\n",
       "      <th>3pm MSL pressure (hPa)</th>\n",
       "    </tr>\n",
       "  </thead>\n",
       "  <tbody>\n",
       "    <tr>\n",
       "      <th>0</th>\n",
       "      <td>Melbourne (Olympic Park), Victoria</td>\n",
       "      <td>1/11/2022</td>\n",
       "      <td>8.5</td>\n",
       "      <td>13.3</td>\n",
       "      <td>3.0</td>\n",
       "      <td>SW</td>\n",
       "      <td>44.0</td>\n",
       "      <td>11:36</td>\n",
       "      <td>12.0</td>\n",
       "      <td>64</td>\n",
       "      <td>NW</td>\n",
       "      <td>13</td>\n",
       "      <td>991.3</td>\n",
       "      <td>13.2</td>\n",
       "      <td>59.0</td>\n",
       "      <td>WNW</td>\n",
       "      <td>11.0</td>\n",
       "      <td>991.5</td>\n",
       "    </tr>\n",
       "    <tr>\n",
       "      <th>1</th>\n",
       "      <td>Melbourne (Olympic Park), Victoria</td>\n",
       "      <td>2/11/2022</td>\n",
       "      <td>6.9</td>\n",
       "      <td>15.7</td>\n",
       "      <td>2.8</td>\n",
       "      <td>SSW</td>\n",
       "      <td>43.0</td>\n",
       "      <td>11:33</td>\n",
       "      <td>11.0</td>\n",
       "      <td>65</td>\n",
       "      <td>W</td>\n",
       "      <td>9</td>\n",
       "      <td>1006.7</td>\n",
       "      <td>15.1</td>\n",
       "      <td>54.0</td>\n",
       "      <td>SSW</td>\n",
       "      <td>13.0</td>\n",
       "      <td>1008.4</td>\n",
       "    </tr>\n",
       "    <tr>\n",
       "      <th>2</th>\n",
       "      <td>Melbourne (Olympic Park), Victoria</td>\n",
       "      <td>3/11/2022</td>\n",
       "      <td>9.1</td>\n",
       "      <td>15.4</td>\n",
       "      <td>0.4</td>\n",
       "      <td>SSW</td>\n",
       "      <td>31.0</td>\n",
       "      <td>8:07</td>\n",
       "      <td>11.5</td>\n",
       "      <td>70</td>\n",
       "      <td>SSW</td>\n",
       "      <td>9</td>\n",
       "      <td>1019.2</td>\n",
       "      <td>13.8</td>\n",
       "      <td>67.0</td>\n",
       "      <td>SSW</td>\n",
       "      <td>9.0</td>\n",
       "      <td>1021.3</td>\n",
       "    </tr>\n",
       "    <tr>\n",
       "      <th>3</th>\n",
       "      <td>Melbourne (Olympic Park), Victoria</td>\n",
       "      <td>4/11/2022</td>\n",
       "      <td>10.2</td>\n",
       "      <td>17.8</td>\n",
       "      <td>0.2</td>\n",
       "      <td>S</td>\n",
       "      <td>24.0</td>\n",
       "      <td>14:50</td>\n",
       "      <td>12.3</td>\n",
       "      <td>84</td>\n",
       "      <td>WSW</td>\n",
       "      <td>6</td>\n",
       "      <td>1028.1</td>\n",
       "      <td>16.9</td>\n",
       "      <td>56.0</td>\n",
       "      <td>SW</td>\n",
       "      <td>9.0</td>\n",
       "      <td>1026.6</td>\n",
       "    </tr>\n",
       "    <tr>\n",
       "      <th>4</th>\n",
       "      <td>Melbourne (Olympic Park), Victoria</td>\n",
       "      <td>5/11/2022</td>\n",
       "      <td>11.8</td>\n",
       "      <td>22.7</td>\n",
       "      <td>0.0</td>\n",
       "      <td>N</td>\n",
       "      <td>31.0</td>\n",
       "      <td>11:58</td>\n",
       "      <td>14.0</td>\n",
       "      <td>78</td>\n",
       "      <td>N</td>\n",
       "      <td>9</td>\n",
       "      <td>1026.3</td>\n",
       "      <td>18.8</td>\n",
       "      <td>65.0</td>\n",
       "      <td>SW</td>\n",
       "      <td>11.0</td>\n",
       "      <td>1023.2</td>\n",
       "    </tr>\n",
       "  </tbody>\n",
       "</table>\n",
       "</div>"
      ],
      "text/plain": [
       "                             Location       Date  Minimum temperature (°C)  \\\n",
       "0  Melbourne (Olympic Park), Victoria  1/11/2022                       8.5   \n",
       "1  Melbourne (Olympic Park), Victoria  2/11/2022                       6.9   \n",
       "2  Melbourne (Olympic Park), Victoria  3/11/2022                       9.1   \n",
       "3  Melbourne (Olympic Park), Victoria  4/11/2022                      10.2   \n",
       "4  Melbourne (Olympic Park), Victoria  5/11/2022                      11.8   \n",
       "\n",
       "   Maximum temperature (°C)  Rainfall (mm) Direction of maximum wind gust   \\\n",
       "0                      13.3            3.0                              SW   \n",
       "1                      15.7            2.8                             SSW   \n",
       "2                      15.4            0.4                             SSW   \n",
       "3                      17.8            0.2                               S   \n",
       "4                      22.7            0.0                               N   \n",
       "\n",
       "   Speed of maximum wind gust (km/h) Time of maximum wind gust  \\\n",
       "0                               44.0                     11:36   \n",
       "1                               43.0                     11:33   \n",
       "2                               31.0                      8:07   \n",
       "3                               24.0                     14:50   \n",
       "4                               31.0                     11:58   \n",
       "\n",
       "   9am Temperature (°C)  9am relative humidity (%) 9am wind direction  \\\n",
       "0                  12.0                         64                 NW   \n",
       "1                  11.0                         65                  W   \n",
       "2                  11.5                         70                SSW   \n",
       "3                  12.3                         84                WSW   \n",
       "4                  14.0                         78                  N   \n",
       "\n",
       "  9am wind speed (km/h)  9am MSL pressure (hPa)  3pm Temperature (°C)  \\\n",
       "0                    13                   991.3                  13.2   \n",
       "1                     9                  1006.7                  15.1   \n",
       "2                     9                  1019.2                  13.8   \n",
       "3                     6                  1028.1                  16.9   \n",
       "4                     9                  1026.3                  18.8   \n",
       "\n",
       "   3pm relative humidity (%) 3pm wind direction  3pm wind speed (km/h)  \\\n",
       "0                       59.0                WNW                   11.0   \n",
       "1                       54.0                SSW                   13.0   \n",
       "2                       67.0                SSW                    9.0   \n",
       "3                       56.0                 SW                    9.0   \n",
       "4                       65.0                 SW                   11.0   \n",
       "\n",
       "   3pm MSL pressure (hPa)  \n",
       "0                   991.5  \n",
       "1                  1008.4  \n",
       "2                  1021.3  \n",
       "3                  1026.6  \n",
       "4                  1023.2  "
      ]
     },
     "metadata": {},
     "output_type": "display_data"
    }
   ],
   "source": [
    "display(data_weather.head())"
   ]
  },
  {
   "cell_type": "code",
   "execution_count": 30,
   "metadata": {},
   "outputs": [
    {
     "name": "stdout",
     "output_type": "stream",
     "text": [
      "'Location': ['Melbourne (Olympic Park), Victoria']\n",
      "'Date': ['1/11/2022' '2/11/2022' '3/11/2022' '4/11/2022' '5/11/2022' '6/11/2022'\n",
      " '7/11/2022' '8/11/2022' '9/11/2022' '10/11/2022' '11/11/2022'\n",
      " '12/11/2022' '13/11/2022' '14/11/2022' '15/11/2022' '16/11/2022'\n",
      " '17/11/2022' '18/11/2022' '19/11/2022' '20/11/2022' '21/11/2022'\n",
      " '22/11/2022' '23/11/2022' '24/11/2022' '25/11/2022' '26/11/2022'\n",
      " '27/11/2022' '28/11/2022' '29/11/2022' '30/11/2022' '1/12/2022'\n",
      " '2/12/2022' '3/12/2022' '4/12/2022' '5/12/2022' '6/12/2022' '7/12/2022'\n",
      " '8/12/2022' '9/12/2022' '10/12/2022' '11/12/2022' '12/12/2022'\n",
      " '13/12/2022' '14/12/2022' '15/12/2022' '16/12/2022' '17/12/2022'\n",
      " '18/12/2022' '19/12/2022' '20/12/2022' '21/12/2022' '22/12/2022'\n",
      " '23/12/2022' '24/12/2022' '25/12/2022' '26/12/2022' '27/12/2022'\n",
      " '28/12/2022' '29/12/2022' '30/12/2022' '31/12/2022' '1/01/2023'\n",
      " '2/01/2023' '3/01/2023' '4/01/2023' '5/01/2023' '6/01/2023' '7/01/2023'\n",
      " '8/01/2023' '9/01/2023' '10/01/2023' '11/01/2023' '12/01/2023'\n",
      " '13/01/2023' '14/01/2023' '15/01/2023' '16/01/2023' '17/01/2023'\n",
      " '18/01/2023' '19/01/2023' '20/01/2023' '21/01/2023' '22/01/2023'\n",
      " '23/01/2023' '24/01/2023' '25/01/2023' '26/01/2023' '27/01/2023'\n",
      " '28/01/2023' '29/01/2023' '30/01/2023' '31/01/2023' '1/02/2023'\n",
      " '2/02/2023' '3/02/2023' '4/02/2023' '5/02/2023' '6/02/2023' '7/02/2023'\n",
      " '8/02/2023' '9/02/2023' '10/02/2023' '11/02/2023' '12/02/2023'\n",
      " '13/02/2023' '14/02/2023' '15/02/2023' '16/02/2023' '17/02/2023'\n",
      " '18/02/2023' '19/02/2023' '20/02/2023' '21/02/2023' '22/02/2023'\n",
      " '23/02/2023' '24/02/2023' '25/02/2023' '26/02/2023' '27/02/2023'\n",
      " '28/02/2023' '1/03/2023' '2/03/2023' '3/03/2023' '4/03/2023' '5/03/2023'\n",
      " '6/03/2023' '7/03/2023' '8/03/2023' '9/03/2023' '10/03/2023' '11/03/2023'\n",
      " '12/03/2023' '13/03/2023' '14/03/2023' '15/03/2023' '16/03/2023'\n",
      " '17/03/2023' '18/03/2023' '19/03/2023' '20/03/2023' '21/03/2023'\n",
      " '22/03/2023' '23/03/2023' '24/03/2023' '25/03/2023' '26/03/2023'\n",
      " '27/03/2023' '28/03/2023' '29/03/2023' '30/03/2023' '31/03/2023'\n",
      " '1/04/2023' '2/04/2023' '3/04/2023' '4/04/2023' '5/04/2023' '6/04/2023'\n",
      " '7/04/2023' '8/04/2023' '9/04/2023' '10/04/2023' '11/04/2023'\n",
      " '12/04/2023' '13/04/2023' '14/04/2023' '15/04/2023' '16/04/2023'\n",
      " '17/04/2023' '18/04/2023' '19/04/2023' '20/04/2023' '21/04/2023'\n",
      " '22/04/2023' '23/04/2023' '24/04/2023']\n",
      "'Minimum temperature (°C)': [ 8.5  6.9  9.1 10.2 11.8 11.6 13.9 14.6 15.6 19.8 18.7 14.2 15.4 13.\n",
      "  8.   7.2  9.6 12.5  9.4  8.7 12.4 10.9 14.7  9.7 12.2 12.1 13.6 17.3\n",
      " 16.2 13.4 13.1  9.9  8.1 14.  11.5  9.  11.1 10.8 11.7  9.8 12.9 16.8\n",
      " 15.7 16.7 17.  17.7 25.  12.6 17.9 18.4 22.1 15.2 15.  14.1 13.3 13.2\n",
      " 14.9 16.9 15.9 18.  20.2 15.1 16.3 15.5 13.8 17.2 18.2 17.6 13.5 19.5\n",
      " 11.4 16.  16.6 15.8 12.  17.1 22.8 17.4 17.5 19.6 22.2 16.5 14.3 14.5\n",
      " 12.3 15.3 16.1 10.7 11.3  8.8 13.7 10.5 10.1 11.9 11.2 14.4  7.8 14.8\n",
      " 11. ]\n",
      "'Maximum temperature (°C)': [13.3 15.7 15.4 17.8 22.7 27.1 25.9 27.6 29.3 26.4 20.2 19.3 24.8 17.4\n",
      " 13.1 14.8 16.3 24.5 22.3 20.6 13.8 18.2 17.7 19.2 27.3 20.5 18.8 18.4\n",
      " 21.4 31.  34.5 18.1 20.  16.  17.6 28.6 17.3 17.9 15.8 16.6 20.3 23.7\n",
      " 26.  29.4 25.2 23.1 23.5 31.9 27.5 37.3 26.2 30.3 35.9 32.  21.1 18.7\n",
      " 21.6 25.6 30.2 29.9 24.  24.2 37.6 27.  37.2 19.9 21.  23.  23.4 28.\n",
      " 30.  26.8 34.2 23.8 21.7 22.2 21.3 20.7 19.8 20.9 20.4 26.7 25.7 32.4\n",
      " 40.5 24.9 27.9 30.6 32.3 31.4 32.9 25.3 23.2 19.4 22.1 24.7 22.4 30.5\n",
      " 22.9 28.5 24.6 36.2 19.  20.8 22.8 22.6 19.6 18.3 18.5 19.1 16.4 26.3\n",
      " 18.  15.5 15.2 25.4 21.2 17.2 17.5  nan]\n",
      "'Rainfall (mm)': [ 3.   2.8  0.4  0.2  0.   6.6 13.6 14.2  0.6  3.2 16.   1.2  2.   2.4\n",
      " 17.4  6.2  3.4  5.2  1.6  0.8  6.4  1.   6.   4.6  1.8 11.2  1.4  2.6\n",
      "  5.6 10.2  8.   5.8  8.2  4.4  7.8 14.8  7.  38.4]\n",
      "'Direction of maximum wind gust ': ['SW' 'SSW' 'S' 'N' 'NNW' 'W' 'NNE' 'WNW' 'SSE' 'NW' 'SE' 'ESE' 'WSW' 'E'\n",
      " nan]\n",
      "'Speed of maximum wind gust (km/h)': [44. 43. 31. 24. 33. 35. 54. 30. 26. 41. 28. 59. 50. 57. 37. 22. 52. 48.\n",
      " 39. 46. 56. 17. 20. 19. 13. nan]\n",
      "'Time of maximum wind gust': ['11:36' '11:33' '8:07' '14:50' '11:58' '18:43' '13:42' '11:24' '12:24'\n",
      " '9:58' '12:38' '12:58' '9:34' '12:56' '11:45' '14:47' '0:35' '15:26'\n",
      " '17:16' '15:42' '11:27' '16:58' '13:18' '20:13' '11:42' '13:12' '16:10'\n",
      " '19:49' '9:26' '16:47' '15:17' '15:00' '8:54' '13:22' '15:08' '16:43'\n",
      " '18:31' '11:40' '16:53' '11:06' '13:54' '16:01' '15:25' '9:43' '16:23'\n",
      " '17:51' '17:35' '16:59' '11:51' '21:16' '17:32' '5:03' '12:26' '14:55'\n",
      " '16:09' '12:47' '8:16' '18:34' '15:31' '12:00' '9:05' '17:27' '17:49'\n",
      " '17:41' '15:49' '14:03' '18:11' '17:09' '13:40' '7:23' '16:28' '18:41'\n",
      " '23:50' '17:20' '16:19' '14:17' '14:42' '16:49' '8:57' '3:24' '15:47'\n",
      " '16:00' '10:42' '13:11' '12:35' '9:53' '17:42' '13:17' '12:49' '16:02'\n",
      " '13:27' '15:02' '14:26' '9:13' '10:36' '13:58' '17:45' '15:18' '15:40'\n",
      " '17:13' '8:11' '12:16' '5:48' '14:39' '12:31' '18:46' '14:14' '13:07'\n",
      " '13:21' '10:18' '9:54' '23:33' '19:41' '14:44' '15:34' '9:23' '14:28'\n",
      " '20:28' '23:34' '10:56' '18:58' '14:29' '23:20' '15:01' '7:36' '10:11'\n",
      " '15:36' '16:15' '14:56' '16:48' '0:23' '14:53' '9:22' '14:58' '15:07'\n",
      " '14:31' '12:40' '0:01' '14:27' '10:47' '13:33' '13:57' '14:57' '9:50'\n",
      " '12:53' '11:00' '14:45' '11:32' '10:48' '15:45' nan]\n",
      "'9am Temperature (°C)': [12.  11.  11.5 12.3 14.  17.9 19.7 21.8 20.8 23.8 18.7 15.7 19.1 15.3\n",
      " 10.1 13.1 12.5 19.3 14.3 11.2 12.7 14.7 16.8 16.  15.5 17.  15.  21.3\n",
      " 27.2 16.6 16.4 10.8 14.6 14.2 20.7 12.6 13.7 14.8 16.5 18.2 17.4 18.9\n",
      " 19.5 22.6 25.1 27.6 15.8 20.6 24.6 28.6 15.6 18.4 18.5 20.3 24.3 20.4\n",
      " 23.3 26.3 19.9 16.3 17.5 17.2 20.  20.1 17.1 25.5 18.3 18.1 13.4 17.6\n",
      " 19.  20.2 18.6 23.1 29.9 21.6 25.  14.9 16.1 23.2 16.7 14.5 13.5 17.3\n",
      " 15.2 13.3 11.7 14.1 12.4]\n",
      "'9am relative humidity (%)': [ 64  65  70  84  78  63  57  67  50  80  69  88  72  71  52  51  68  73\n",
      "  75  66  61  58  74  43  77  44  53  56  54  91  97  62  42  47  46  87\n",
      "  76  94  59  32  86  79  85  55  33  83  45  48  37  81 100  95  89  93]\n",
      "'9am wind direction': ['NW' 'W' 'SSW' 'WSW' 'N' 'NNE' 'NE' 'SSE' 'WNW' 'SW' 'ESE' 'SE' 'S' 'NNW'\n",
      " 'ENE' 'E' ' ']\n",
      "'9am wind speed (km/h)': ['13' '9' '6' '4' '15' '17' '11' '7' '24' '19' '22' '20' '2' 'Calm']\n",
      "'9am MSL pressure (hPa)': [ 991.3 1006.7 1019.2 1028.1 1026.3 1023.2 1021.1 1018.2 1018.8 1013.8\n",
      " 1011.  1014.3 1001.8  997.1 1013.1 1015.1 1019.3 1016.6 1003.1  998.2\n",
      " 1012.9 1015.6 1021.  1021.7 1011.9 1004.5 1009.1 1019.8 1018.3 1015.7\n",
      " 1011.7 1009.6 1012.1 1018.1 1017.1 1005.4 1001.  1008.7 1013.2 1017.\n",
      " 1019.4 1023.  1024.9 1025.5 1022.  1015.3 1011.6 1008.2 1019.  1015.9\n",
      " 1010.8 1005.9 1010.2 1010.7 1014.9 1017.7 1012.7 1016.4 1011.4 1014.\n",
      " 1012.8 1019.5 1010.9 1016.8 1017.8 1016.3 1016.1 1011.8 1007.8 1014.7\n",
      " 1009.8  998.1  993.2 1004.  1017.4 1020.5 1020.  1017.3 1007.3 1000.5\n",
      " 1010.  1013.9 1013.3 1020.3 1027.5 1024.8 1017.6 1012.4 1012.5 1015.4\n",
      " 1014.8 1018.9 1003.9 1004.9 1012.  1014.4 1016.5 1019.7 1027.8 1025.7\n",
      " 1019.6 1017.5 1009.3 1020.4 1012.3  999.3 1006.1 1014.5 1016.  1004.8\n",
      " 1015.5 1001.1 1004.3 1022.7 1023.6 1026.8 1030.5 1031.9 1034.4 1032.5]\n",
      "'3pm Temperature (°C)': [13.2 15.1 13.8 16.9 18.8 26.2 20.2 25.8 28.3 25.1 18.2 17.6 24.3 15.\n",
      " 10.8 13.9 15.5 22.  18.3 19.4 11.8 18.  16.1 17.  19.2 27.  19.5 18.1\n",
      " 17.7 17.9 20.4 28.8 32.5 16.3 18.4 16.4 24.8 25.7 16.  12.2 12.4 15.7\n",
      " 21.4 22.6 22.4 26.3 28.2 21.5 21.6 30.3 23.6 36.5 25.  27.4 35.3 21.1\n",
      " 20.5 20.8 25.4 30.  21.2 20.7 27.9 22.9 23.3 35.4 20.3 25.2 35.6 16.7\n",
      " 17.5 22.1 28.4 27.6 24.2 33.6 19.6 19.  19.8 22.3 19.9 31.4 39.6 22.7\n",
      " 25.5 23.4 27.3 30.4 30.6 24.4 22.2 18.9 18.6 30.2 29.2 24.  21.3 22.5\n",
      " 32.  21.8 19.1 14.6 17.8 14.1 14.9 24.5 18.5 15.8  nan]\n",
      "'3pm relative humidity (%)': [59. 54. 67. 56. 65. 33. 66. 43. 37. 44. 81. 87. 72. 51. 63. 47. 36. 64.\n",
      " 58. 77. 46. 52. 62. 42. 28. 70. 48. 32. 35. 86. 57. 41. 39. 27. 82. 76.\n",
      " 53. 31. 26. 71. 55. 34. 80. 75. 49. 73. 50. 85. 45. 18. 60. 61. 24. 16.\n",
      " 40. 30. 97. 69. 68. nan]\n",
      "'3pm wind direction': ['WNW' 'SSW' 'SW' 'NW' 'WSW' 'NNW' 'N' 'S' 'SE' 'W' 'SSE' 'NNE' 'NE' 'E'\n",
      " nan]\n",
      "'3pm wind speed (km/h)': [11. 13.  9.  4.  6. 20. 15. 19. 17.  7. 22. 28. 24.  2. nan]\n",
      "'3pm MSL pressure (hPa)': [ 991.5 1008.4 1021.3 1026.6 1023.2 1019.9 1019.1 1015.9 1015.4 1011.7\n",
      " 1010.4 1010.9  998.6 1003.6 1013.1 1018.7  997.6  997.1 1005.1 1012.3\n",
      " 1016.9 1020.4 1020.  1004.6 1003.7 1008.  1017.7 1013.  1007.8 1008.9\n",
      " 1004.4 1015.2 1017.3 1012.  1002.  1002.1 1015.5 1016.5 1019.  1021.4\n",
      " 1021.6 1022.3 1017.6 1011.6 1008.5 1009.7 1010.8 1016.6 1013.4 1017.5\n",
      " 1012.5 1007.4 1006.6 1011.2 1014.3 1015.  1011.4 1010.7 1013.3 1013.8\n",
      " 1008.6 1013.9 1019.7 1017.1 1009.8 1012.6 1016.7 1016.  1014.2 1015.1\n",
      " 1012.7 1009.2 1016.2 1012.9 1006.7 1012.2 1007.5  990.3  993.7 1008.3\n",
      " 1020.2 1018.2 1014.8 1004.2 1001.9 1011.1 1010.3 1005.9 1020.7 1027.8\n",
      " 1021.2 1014.1 1012.1 1013.2 1000.8 1003.  1003.9 1011.9 1014.5 1012.8\n",
      " 1014.7 1020.1 1026.5 1022.7 1015.6 1014.4 1010.5 1009.9 1010.1 1019.4\n",
      " 1016.3 1016.4  997.3 1005.7 1004.3 1010.   999.5 1009.5 1021.9 1022.1\n",
      " 1025.5 1029.2 1029.7 1032.4    nan]\n"
     ]
    }
   ],
   "source": [
    "# Unique values in each columns to examine value range and current data types in the columns\n",
    "for column in data_weather.columns:\n",
    "    unique_values = data_weather[column].unique()\n",
    "    print(f\"'{column}': {unique_values}\")"
   ]
  },
  {
   "cell_type": "code",
   "execution_count": 31,
   "metadata": {},
   "outputs": [
    {
     "name": "stdout",
     "output_type": "stream",
     "text": [
      "Location                              object\n",
      "Date                                  object\n",
      "Minimum temperature (°C)             float64\n",
      "Maximum temperature (°C)             float64\n",
      "Rainfall (mm)                        float64\n",
      "Direction of maximum wind gust        object\n",
      "Speed of maximum wind gust (km/h)    float64\n",
      "Time of maximum wind gust             object\n",
      "9am Temperature (°C)                 float64\n",
      "9am relative humidity (%)              int64\n",
      "9am wind direction                    object\n",
      "9am wind speed (km/h)                 object\n",
      "9am MSL pressure (hPa)               float64\n",
      "3pm Temperature (°C)                 float64\n",
      "3pm relative humidity (%)            float64\n",
      "3pm wind direction                    object\n",
      "3pm wind speed (km/h)                float64\n",
      "3pm MSL pressure (hPa)               float64\n",
      "dtype: object\n"
     ]
    }
   ],
   "source": [
    "print(data_weather.dtypes)"
   ]
  },
  {
   "cell_type": "code",
   "execution_count": 32,
   "metadata": {},
   "outputs": [],
   "source": [
    "# DELETE Location                             \n",
    "# Date need to be converted into date_time\n",
    "# DELETE Direction of maximum wind gust       \n",
    "# DELETE Time of maximum wind gust            \n",
    "# DELETE 9am wind direction\n",
    "# 9am wind speed (km/h) needs to be changed into int, also need to change the 'Calm' note into value\n",
    "# DELETE 3pm wind direction"
   ]
  },
  {
   "cell_type": "code",
   "execution_count": 33,
   "metadata": {},
   "outputs": [],
   "source": [
    "data_weather.drop(columns=['Location', 'Direction of maximum wind gust ', 'Time of maximum wind gust', '9am wind direction', '3pm wind direction'], inplace=True)"
   ]
  },
  {
   "cell_type": "code",
   "execution_count": 34,
   "metadata": {},
   "outputs": [
    {
     "data": {
      "text/html": [
       "<div>\n",
       "<style scoped>\n",
       "    .dataframe tbody tr th:only-of-type {\n",
       "        vertical-align: middle;\n",
       "    }\n",
       "\n",
       "    .dataframe tbody tr th {\n",
       "        vertical-align: top;\n",
       "    }\n",
       "\n",
       "    .dataframe thead th {\n",
       "        text-align: right;\n",
       "    }\n",
       "</style>\n",
       "<table border=\"1\" class=\"dataframe\">\n",
       "  <thead>\n",
       "    <tr style=\"text-align: right;\">\n",
       "      <th></th>\n",
       "      <th>Date</th>\n",
       "      <th>Minimum temperature (°C)</th>\n",
       "      <th>Maximum temperature (°C)</th>\n",
       "      <th>Rainfall (mm)</th>\n",
       "      <th>Speed of maximum wind gust (km/h)</th>\n",
       "      <th>9am Temperature (°C)</th>\n",
       "      <th>9am relative humidity (%)</th>\n",
       "      <th>9am wind speed (km/h)</th>\n",
       "      <th>9am MSL pressure (hPa)</th>\n",
       "      <th>3pm Temperature (°C)</th>\n",
       "      <th>3pm relative humidity (%)</th>\n",
       "      <th>3pm wind speed (km/h)</th>\n",
       "      <th>3pm MSL pressure (hPa)</th>\n",
       "    </tr>\n",
       "  </thead>\n",
       "  <tbody>\n",
       "    <tr>\n",
       "      <th>0</th>\n",
       "      <td>1/11/2022</td>\n",
       "      <td>8.5</td>\n",
       "      <td>13.3</td>\n",
       "      <td>3.0</td>\n",
       "      <td>44.0</td>\n",
       "      <td>12.0</td>\n",
       "      <td>64</td>\n",
       "      <td>13</td>\n",
       "      <td>991.3</td>\n",
       "      <td>13.2</td>\n",
       "      <td>59.0</td>\n",
       "      <td>11.0</td>\n",
       "      <td>991.5</td>\n",
       "    </tr>\n",
       "    <tr>\n",
       "      <th>1</th>\n",
       "      <td>2/11/2022</td>\n",
       "      <td>6.9</td>\n",
       "      <td>15.7</td>\n",
       "      <td>2.8</td>\n",
       "      <td>43.0</td>\n",
       "      <td>11.0</td>\n",
       "      <td>65</td>\n",
       "      <td>9</td>\n",
       "      <td>1006.7</td>\n",
       "      <td>15.1</td>\n",
       "      <td>54.0</td>\n",
       "      <td>13.0</td>\n",
       "      <td>1008.4</td>\n",
       "    </tr>\n",
       "    <tr>\n",
       "      <th>2</th>\n",
       "      <td>3/11/2022</td>\n",
       "      <td>9.1</td>\n",
       "      <td>15.4</td>\n",
       "      <td>0.4</td>\n",
       "      <td>31.0</td>\n",
       "      <td>11.5</td>\n",
       "      <td>70</td>\n",
       "      <td>9</td>\n",
       "      <td>1019.2</td>\n",
       "      <td>13.8</td>\n",
       "      <td>67.0</td>\n",
       "      <td>9.0</td>\n",
       "      <td>1021.3</td>\n",
       "    </tr>\n",
       "    <tr>\n",
       "      <th>3</th>\n",
       "      <td>4/11/2022</td>\n",
       "      <td>10.2</td>\n",
       "      <td>17.8</td>\n",
       "      <td>0.2</td>\n",
       "      <td>24.0</td>\n",
       "      <td>12.3</td>\n",
       "      <td>84</td>\n",
       "      <td>6</td>\n",
       "      <td>1028.1</td>\n",
       "      <td>16.9</td>\n",
       "      <td>56.0</td>\n",
       "      <td>9.0</td>\n",
       "      <td>1026.6</td>\n",
       "    </tr>\n",
       "    <tr>\n",
       "      <th>4</th>\n",
       "      <td>5/11/2022</td>\n",
       "      <td>11.8</td>\n",
       "      <td>22.7</td>\n",
       "      <td>0.0</td>\n",
       "      <td>31.0</td>\n",
       "      <td>14.0</td>\n",
       "      <td>78</td>\n",
       "      <td>9</td>\n",
       "      <td>1026.3</td>\n",
       "      <td>18.8</td>\n",
       "      <td>65.0</td>\n",
       "      <td>11.0</td>\n",
       "      <td>1023.2</td>\n",
       "    </tr>\n",
       "  </tbody>\n",
       "</table>\n",
       "</div>"
      ],
      "text/plain": [
       "        Date  Minimum temperature (°C)  Maximum temperature (°C)  \\\n",
       "0  1/11/2022                       8.5                      13.3   \n",
       "1  2/11/2022                       6.9                      15.7   \n",
       "2  3/11/2022                       9.1                      15.4   \n",
       "3  4/11/2022                      10.2                      17.8   \n",
       "4  5/11/2022                      11.8                      22.7   \n",
       "\n",
       "   Rainfall (mm)  Speed of maximum wind gust (km/h)  9am Temperature (°C)  \\\n",
       "0            3.0                               44.0                  12.0   \n",
       "1            2.8                               43.0                  11.0   \n",
       "2            0.4                               31.0                  11.5   \n",
       "3            0.2                               24.0                  12.3   \n",
       "4            0.0                               31.0                  14.0   \n",
       "\n",
       "   9am relative humidity (%) 9am wind speed (km/h)  9am MSL pressure (hPa)  \\\n",
       "0                         64                    13                   991.3   \n",
       "1                         65                     9                  1006.7   \n",
       "2                         70                     9                  1019.2   \n",
       "3                         84                     6                  1028.1   \n",
       "4                         78                     9                  1026.3   \n",
       "\n",
       "   3pm Temperature (°C)  3pm relative humidity (%)  3pm wind speed (km/h)  \\\n",
       "0                  13.2                       59.0                   11.0   \n",
       "1                  15.1                       54.0                   13.0   \n",
       "2                  13.8                       67.0                    9.0   \n",
       "3                  16.9                       56.0                    9.0   \n",
       "4                  18.8                       65.0                   11.0   \n",
       "\n",
       "   3pm MSL pressure (hPa)  \n",
       "0                   991.5  \n",
       "1                  1008.4  \n",
       "2                  1021.3  \n",
       "3                  1026.6  \n",
       "4                  1023.2  "
      ]
     },
     "execution_count": 34,
     "metadata": {},
     "output_type": "execute_result"
    }
   ],
   "source": [
    "data_weather.head()"
   ]
  },
  {
   "cell_type": "code",
   "execution_count": 35,
   "metadata": {},
   "outputs": [],
   "source": [
    "# Convert date into date_time\n",
    "data_weather['Date'] = pd.to_datetime(data_weather['Date'], format='%d/%m/%Y')"
   ]
  },
  {
   "cell_type": "code",
   "execution_count": 36,
   "metadata": {},
   "outputs": [
    {
     "data": {
      "text/html": [
       "<div>\n",
       "<style scoped>\n",
       "    .dataframe tbody tr th:only-of-type {\n",
       "        vertical-align: middle;\n",
       "    }\n",
       "\n",
       "    .dataframe tbody tr th {\n",
       "        vertical-align: top;\n",
       "    }\n",
       "\n",
       "    .dataframe thead th {\n",
       "        text-align: right;\n",
       "    }\n",
       "</style>\n",
       "<table border=\"1\" class=\"dataframe\">\n",
       "  <thead>\n",
       "    <tr style=\"text-align: right;\">\n",
       "      <th></th>\n",
       "      <th>Date</th>\n",
       "      <th>Minimum temperature (°C)</th>\n",
       "      <th>Maximum temperature (°C)</th>\n",
       "      <th>Rainfall (mm)</th>\n",
       "      <th>Speed of maximum wind gust (km/h)</th>\n",
       "      <th>9am Temperature (°C)</th>\n",
       "      <th>9am relative humidity (%)</th>\n",
       "      <th>9am wind speed (km/h)</th>\n",
       "      <th>9am MSL pressure (hPa)</th>\n",
       "      <th>3pm Temperature (°C)</th>\n",
       "      <th>3pm relative humidity (%)</th>\n",
       "      <th>3pm wind speed (km/h)</th>\n",
       "      <th>3pm MSL pressure (hPa)</th>\n",
       "    </tr>\n",
       "  </thead>\n",
       "  <tbody>\n",
       "    <tr>\n",
       "      <th>0</th>\n",
       "      <td>2022-11-01</td>\n",
       "      <td>8.5</td>\n",
       "      <td>13.3</td>\n",
       "      <td>3.0</td>\n",
       "      <td>44.0</td>\n",
       "      <td>12.0</td>\n",
       "      <td>64</td>\n",
       "      <td>13</td>\n",
       "      <td>991.3</td>\n",
       "      <td>13.2</td>\n",
       "      <td>59.0</td>\n",
       "      <td>11.0</td>\n",
       "      <td>991.5</td>\n",
       "    </tr>\n",
       "    <tr>\n",
       "      <th>1</th>\n",
       "      <td>2022-11-02</td>\n",
       "      <td>6.9</td>\n",
       "      <td>15.7</td>\n",
       "      <td>2.8</td>\n",
       "      <td>43.0</td>\n",
       "      <td>11.0</td>\n",
       "      <td>65</td>\n",
       "      <td>9</td>\n",
       "      <td>1006.7</td>\n",
       "      <td>15.1</td>\n",
       "      <td>54.0</td>\n",
       "      <td>13.0</td>\n",
       "      <td>1008.4</td>\n",
       "    </tr>\n",
       "    <tr>\n",
       "      <th>2</th>\n",
       "      <td>2022-11-03</td>\n",
       "      <td>9.1</td>\n",
       "      <td>15.4</td>\n",
       "      <td>0.4</td>\n",
       "      <td>31.0</td>\n",
       "      <td>11.5</td>\n",
       "      <td>70</td>\n",
       "      <td>9</td>\n",
       "      <td>1019.2</td>\n",
       "      <td>13.8</td>\n",
       "      <td>67.0</td>\n",
       "      <td>9.0</td>\n",
       "      <td>1021.3</td>\n",
       "    </tr>\n",
       "    <tr>\n",
       "      <th>3</th>\n",
       "      <td>2022-11-04</td>\n",
       "      <td>10.2</td>\n",
       "      <td>17.8</td>\n",
       "      <td>0.2</td>\n",
       "      <td>24.0</td>\n",
       "      <td>12.3</td>\n",
       "      <td>84</td>\n",
       "      <td>6</td>\n",
       "      <td>1028.1</td>\n",
       "      <td>16.9</td>\n",
       "      <td>56.0</td>\n",
       "      <td>9.0</td>\n",
       "      <td>1026.6</td>\n",
       "    </tr>\n",
       "    <tr>\n",
       "      <th>4</th>\n",
       "      <td>2022-11-05</td>\n",
       "      <td>11.8</td>\n",
       "      <td>22.7</td>\n",
       "      <td>0.0</td>\n",
       "      <td>31.0</td>\n",
       "      <td>14.0</td>\n",
       "      <td>78</td>\n",
       "      <td>9</td>\n",
       "      <td>1026.3</td>\n",
       "      <td>18.8</td>\n",
       "      <td>65.0</td>\n",
       "      <td>11.0</td>\n",
       "      <td>1023.2</td>\n",
       "    </tr>\n",
       "  </tbody>\n",
       "</table>\n",
       "</div>"
      ],
      "text/plain": [
       "        Date  Minimum temperature (°C)  Maximum temperature (°C)  \\\n",
       "0 2022-11-01                       8.5                      13.3   \n",
       "1 2022-11-02                       6.9                      15.7   \n",
       "2 2022-11-03                       9.1                      15.4   \n",
       "3 2022-11-04                      10.2                      17.8   \n",
       "4 2022-11-05                      11.8                      22.7   \n",
       "\n",
       "   Rainfall (mm)  Speed of maximum wind gust (km/h)  9am Temperature (°C)  \\\n",
       "0            3.0                               44.0                  12.0   \n",
       "1            2.8                               43.0                  11.0   \n",
       "2            0.4                               31.0                  11.5   \n",
       "3            0.2                               24.0                  12.3   \n",
       "4            0.0                               31.0                  14.0   \n",
       "\n",
       "   9am relative humidity (%) 9am wind speed (km/h)  9am MSL pressure (hPa)  \\\n",
       "0                         64                    13                   991.3   \n",
       "1                         65                     9                  1006.7   \n",
       "2                         70                     9                  1019.2   \n",
       "3                         84                     6                  1028.1   \n",
       "4                         78                     9                  1026.3   \n",
       "\n",
       "   3pm Temperature (°C)  3pm relative humidity (%)  3pm wind speed (km/h)  \\\n",
       "0                  13.2                       59.0                   11.0   \n",
       "1                  15.1                       54.0                   13.0   \n",
       "2                  13.8                       67.0                    9.0   \n",
       "3                  16.9                       56.0                    9.0   \n",
       "4                  18.8                       65.0                   11.0   \n",
       "\n",
       "   3pm MSL pressure (hPa)  \n",
       "0                   991.5  \n",
       "1                  1008.4  \n",
       "2                  1021.3  \n",
       "3                  1026.6  \n",
       "4                  1023.2  "
      ]
     },
     "execution_count": 36,
     "metadata": {},
     "output_type": "execute_result"
    }
   ],
   "source": [
    "data_weather.head()"
   ]
  },
  {
   "cell_type": "code",
   "execution_count": 37,
   "metadata": {},
   "outputs": [
    {
     "name": "stdout",
     "output_type": "stream",
     "text": [
      "Date                                 datetime64[ns]\n",
      "Minimum temperature (°C)                    float64\n",
      "Maximum temperature (°C)                    float64\n",
      "Rainfall (mm)                               float64\n",
      "Speed of maximum wind gust (km/h)           float64\n",
      "9am Temperature (°C)                        float64\n",
      "9am relative humidity (%)                     int64\n",
      "9am wind speed (km/h)                        object\n",
      "9am MSL pressure (hPa)                      float64\n",
      "3pm Temperature (°C)                        float64\n",
      "3pm relative humidity (%)                   float64\n",
      "3pm wind speed (km/h)                       float64\n",
      "3pm MSL pressure (hPa)                      float64\n",
      "dtype: object\n"
     ]
    }
   ],
   "source": [
    "print(data_weather.dtypes)"
   ]
  },
  {
   "cell_type": "code",
   "execution_count": 38,
   "metadata": {},
   "outputs": [
    {
     "name": "stdout",
     "output_type": "stream",
     "text": [
      "9       40\n",
      "7       35\n",
      "13      21\n",
      "11      17\n",
      "6       17\n",
      "15      10\n",
      "Calm     9\n",
      "4        8\n",
      "17       5\n",
      "2        4\n",
      "19       3\n",
      "20       3\n",
      "22       2\n",
      "24       1\n",
      "Name: 9am wind speed (km/h), dtype: int64\n"
     ]
    }
   ],
   "source": [
    "#Clean 9am wind speed (km/h). Count value in the column:\n",
    "value_counts = data_weather['9am wind speed (km/h)'].value_counts()\n",
    "print(value_counts)"
   ]
  },
  {
   "cell_type": "code",
   "execution_count": 39,
   "metadata": {},
   "outputs": [],
   "source": [
    "#As calm == 0 windspeed, replace Calm with 0:\n",
    "data_weather['9am wind speed (km/h)'] = data_weather['9am wind speed (km/h)'].replace('Calm', 0)"
   ]
  },
  {
   "cell_type": "code",
   "execution_count": 40,
   "metadata": {},
   "outputs": [
    {
     "name": "stdout",
     "output_type": "stream",
     "text": [
      "9     40\n",
      "7     35\n",
      "13    21\n",
      "11    17\n",
      "6     17\n",
      "15    10\n",
      "0      9\n",
      "4      8\n",
      "17     5\n",
      "2      4\n",
      "19     3\n",
      "20     3\n",
      "22     2\n",
      "24     1\n",
      "Name: 9am wind speed (km/h), dtype: int64\n"
     ]
    }
   ],
   "source": [
    "#Examine the column again\n",
    "value_counts = data_weather['9am wind speed (km/h)'].value_counts()\n",
    "print(value_counts)"
   ]
  },
  {
   "cell_type": "code",
   "execution_count": 41,
   "metadata": {},
   "outputs": [],
   "source": [
    "# Change the column into int:\n",
    "data_weather['9am wind speed (km/h)'] = data_weather['9am wind speed (km/h)'].astype(int)"
   ]
  },
  {
   "cell_type": "code",
   "execution_count": 42,
   "metadata": {},
   "outputs": [
    {
     "name": "stdout",
     "output_type": "stream",
     "text": [
      "Date                                 datetime64[ns]\n",
      "Minimum temperature (°C)                    float64\n",
      "Maximum temperature (°C)                    float64\n",
      "Rainfall (mm)                               float64\n",
      "Speed of maximum wind gust (km/h)           float64\n",
      "9am Temperature (°C)                        float64\n",
      "9am relative humidity (%)                     int64\n",
      "9am wind speed (km/h)                         int64\n",
      "9am MSL pressure (hPa)                      float64\n",
      "3pm Temperature (°C)                        float64\n",
      "3pm relative humidity (%)                   float64\n",
      "3pm wind speed (km/h)                       float64\n",
      "3pm MSL pressure (hPa)                      float64\n",
      "dtype: object\n"
     ]
    }
   ],
   "source": [
    "#Check if we change it successfully\n",
    "print(data_weather.dtypes)"
   ]
  },
  {
   "cell_type": "code",
   "execution_count": 43,
   "metadata": {},
   "outputs": [
    {
     "name": "stdout",
     "output_type": "stream",
     "text": [
      "Date                                 0\n",
      "Minimum temperature (°C)             0\n",
      "Maximum temperature (°C)             1\n",
      "Rainfall (mm)                        0\n",
      "Speed of maximum wind gust (km/h)    1\n",
      "9am Temperature (°C)                 0\n",
      "9am relative humidity (%)            0\n",
      "9am wind speed (km/h)                0\n",
      "9am MSL pressure (hPa)               0\n",
      "3pm Temperature (°C)                 1\n",
      "3pm relative humidity (%)            1\n",
      "3pm wind speed (km/h)                1\n",
      "3pm MSL pressure (hPa)               1\n",
      "dtype: int64\n"
     ]
    }
   ],
   "source": [
    "#Examine data frame again\n",
    "print(data_weather.isnull().sum())"
   ]
  },
  {
   "cell_type": "code",
   "execution_count": 44,
   "metadata": {},
   "outputs": [
    {
     "name": "stdout",
     "output_type": "stream",
     "text": [
      "          Date  Minimum temperature (°C)  Maximum temperature (°C)  \\\n",
      "174 2023-04-24                      11.0                       NaN   \n",
      "\n",
      "     Rainfall (mm)  Speed of maximum wind gust (km/h)  9am Temperature (°C)  \\\n",
      "174            0.0                                NaN                  14.3   \n",
      "\n",
      "     9am relative humidity (%)  9am wind speed (km/h)  9am MSL pressure (hPa)  \\\n",
      "174                         87                      9                  1032.5   \n",
      "\n",
      "     3pm Temperature (°C)  3pm relative humidity (%)  3pm wind speed (km/h)  \\\n",
      "174                   NaN                        NaN                    NaN   \n",
      "\n",
      "     3pm MSL pressure (hPa)  \n",
      "174                     NaN  \n"
     ]
    }
   ],
   "source": [
    "# Where is the missing data?\n",
    "null_values = data_weather.isnull()\n",
    "rows_with_null = data_weather[null_values.any(axis=1)]\n",
    "print(rows_with_null)"
   ]
  },
  {
   "cell_type": "code",
   "execution_count": 45,
   "metadata": {},
   "outputs": [],
   "source": [
    "#Replace the missing value of line 174 with column's mean value\n",
    "for column in data_weather.columns:\n",
    "    column_mean = data_weather[column].mean()\n",
    "    data_weather[column].fillna(column_mean, inplace=True)"
   ]
  },
  {
   "cell_type": "code",
   "execution_count": 46,
   "metadata": {},
   "outputs": [
    {
     "name": "stdout",
     "output_type": "stream",
     "text": [
      "Date                                 0\n",
      "Minimum temperature (°C)             0\n",
      "Maximum temperature (°C)             0\n",
      "Rainfall (mm)                        0\n",
      "Speed of maximum wind gust (km/h)    0\n",
      "9am Temperature (°C)                 0\n",
      "9am relative humidity (%)            0\n",
      "9am wind speed (km/h)                0\n",
      "9am MSL pressure (hPa)               0\n",
      "3pm Temperature (°C)                 0\n",
      "3pm relative humidity (%)            0\n",
      "3pm wind speed (km/h)                0\n",
      "3pm MSL pressure (hPa)               0\n",
      "dtype: int64\n"
     ]
    }
   ],
   "source": [
    "# Re-examine the date frame \n",
    "print(data_weather.isnull().sum())"
   ]
  },
  {
   "cell_type": "code",
   "execution_count": 47,
   "metadata": {},
   "outputs": [
    {
     "name": "stdout",
     "output_type": "stream",
     "text": [
      "Date                                 2023-04-24 00:00:00\n",
      "Minimum temperature (°C)                              11\n",
      "Maximum temperature (°C)                         23.1218\n",
      "Rainfall (mm)                                          0\n",
      "Speed of maximum wind gust (km/h)                34.5632\n",
      "9am Temperature (°C)                                14.3\n",
      "9am relative humidity (%)                             87\n",
      "9am wind speed (km/h)                                  9\n",
      "9am MSL pressure (hPa)                            1032.5\n",
      "3pm Temperature (°C)                             21.5466\n",
      "3pm relative humidity (%)                        54.2989\n",
      "3pm wind speed (km/h)                             13.046\n",
      "3pm MSL pressure (hPa)                           1012.82\n",
      "Name: 174, dtype: object\n"
     ]
    }
   ],
   "source": [
    "# Examine the line with missing value again\n",
    "print(data_weather.iloc[174])"
   ]
  },
  {
   "cell_type": "code",
   "execution_count": 48,
   "metadata": {},
   "outputs": [],
   "source": [
    "#Export into a new csv file:\n",
    "data_weather.to_csv(\"data_weather.csv\", index=False)"
   ]
  },
  {
   "cell_type": "code",
   "execution_count": 49,
   "metadata": {},
   "outputs": [],
   "source": [
    "#Merge 2 dataset on Date column:\n",
    "weather_demand_df = pd.merge(data_weather, daily_demand_df, how='left', on='Date')"
   ]
  },
  {
   "cell_type": "code",
   "execution_count": 50,
   "metadata": {
    "jupyter": {
     "source_hidden": true
    }
   },
   "outputs": [
    {
     "data": {
      "text/html": [
       "<div>\n",
       "<style scoped>\n",
       "    .dataframe tbody tr th:only-of-type {\n",
       "        vertical-align: middle;\n",
       "    }\n",
       "\n",
       "    .dataframe tbody tr th {\n",
       "        vertical-align: top;\n",
       "    }\n",
       "\n",
       "    .dataframe thead th {\n",
       "        text-align: right;\n",
       "    }\n",
       "</style>\n",
       "<table border=\"1\" class=\"dataframe\">\n",
       "  <thead>\n",
       "    <tr style=\"text-align: right;\">\n",
       "      <th></th>\n",
       "      <th>Date</th>\n",
       "      <th>Minimum temperature (°C)</th>\n",
       "      <th>Maximum temperature (°C)</th>\n",
       "      <th>Rainfall (mm)</th>\n",
       "      <th>Speed of maximum wind gust (km/h)</th>\n",
       "      <th>9am Temperature (°C)</th>\n",
       "      <th>9am relative humidity (%)</th>\n",
       "      <th>9am wind speed (km/h)</th>\n",
       "      <th>9am MSL pressure (hPa)</th>\n",
       "      <th>3pm Temperature (°C)</th>\n",
       "      <th>3pm relative humidity (%)</th>\n",
       "      <th>3pm wind speed (km/h)</th>\n",
       "      <th>3pm MSL pressure (hPa)</th>\n",
       "      <th>Demand</th>\n",
       "    </tr>\n",
       "  </thead>\n",
       "  <tbody>\n",
       "    <tr>\n",
       "      <th>0</th>\n",
       "      <td>2022-11-01</td>\n",
       "      <td>8.5</td>\n",
       "      <td>13.3</td>\n",
       "      <td>3.0</td>\n",
       "      <td>44.0</td>\n",
       "      <td>12.0</td>\n",
       "      <td>64</td>\n",
       "      <td>13</td>\n",
       "      <td>991.3</td>\n",
       "      <td>13.2</td>\n",
       "      <td>59.0</td>\n",
       "      <td>11.0</td>\n",
       "      <td>991.5</td>\n",
       "      <td>207429.46</td>\n",
       "    </tr>\n",
       "    <tr>\n",
       "      <th>1</th>\n",
       "      <td>2022-11-02</td>\n",
       "      <td>6.9</td>\n",
       "      <td>15.7</td>\n",
       "      <td>2.8</td>\n",
       "      <td>43.0</td>\n",
       "      <td>11.0</td>\n",
       "      <td>65</td>\n",
       "      <td>9</td>\n",
       "      <td>1006.7</td>\n",
       "      <td>15.1</td>\n",
       "      <td>54.0</td>\n",
       "      <td>13.0</td>\n",
       "      <td>1008.4</td>\n",
       "      <td>233630.93</td>\n",
       "    </tr>\n",
       "    <tr>\n",
       "      <th>2</th>\n",
       "      <td>2022-11-03</td>\n",
       "      <td>9.1</td>\n",
       "      <td>15.4</td>\n",
       "      <td>0.4</td>\n",
       "      <td>31.0</td>\n",
       "      <td>11.5</td>\n",
       "      <td>70</td>\n",
       "      <td>9</td>\n",
       "      <td>1019.2</td>\n",
       "      <td>13.8</td>\n",
       "      <td>67.0</td>\n",
       "      <td>9.0</td>\n",
       "      <td>1021.3</td>\n",
       "      <td>235672.34</td>\n",
       "    </tr>\n",
       "    <tr>\n",
       "      <th>3</th>\n",
       "      <td>2022-11-04</td>\n",
       "      <td>10.2</td>\n",
       "      <td>17.8</td>\n",
       "      <td>0.2</td>\n",
       "      <td>24.0</td>\n",
       "      <td>12.3</td>\n",
       "      <td>84</td>\n",
       "      <td>6</td>\n",
       "      <td>1028.1</td>\n",
       "      <td>16.9</td>\n",
       "      <td>56.0</td>\n",
       "      <td>9.0</td>\n",
       "      <td>1026.6</td>\n",
       "      <td>224895.28</td>\n",
       "    </tr>\n",
       "    <tr>\n",
       "      <th>4</th>\n",
       "      <td>2022-11-05</td>\n",
       "      <td>11.8</td>\n",
       "      <td>22.7</td>\n",
       "      <td>0.0</td>\n",
       "      <td>31.0</td>\n",
       "      <td>14.0</td>\n",
       "      <td>78</td>\n",
       "      <td>9</td>\n",
       "      <td>1026.3</td>\n",
       "      <td>18.8</td>\n",
       "      <td>65.0</td>\n",
       "      <td>11.0</td>\n",
       "      <td>1023.2</td>\n",
       "      <td>189190.35</td>\n",
       "    </tr>\n",
       "  </tbody>\n",
       "</table>\n",
       "</div>"
      ],
      "text/plain": [
       "        Date  Minimum temperature (°C)  Maximum temperature (°C)  \\\n",
       "0 2022-11-01                       8.5                      13.3   \n",
       "1 2022-11-02                       6.9                      15.7   \n",
       "2 2022-11-03                       9.1                      15.4   \n",
       "3 2022-11-04                      10.2                      17.8   \n",
       "4 2022-11-05                      11.8                      22.7   \n",
       "\n",
       "   Rainfall (mm)  Speed of maximum wind gust (km/h)  9am Temperature (°C)  \\\n",
       "0            3.0                               44.0                  12.0   \n",
       "1            2.8                               43.0                  11.0   \n",
       "2            0.4                               31.0                  11.5   \n",
       "3            0.2                               24.0                  12.3   \n",
       "4            0.0                               31.0                  14.0   \n",
       "\n",
       "   9am relative humidity (%)  9am wind speed (km/h)  9am MSL pressure (hPa)  \\\n",
       "0                         64                     13                   991.3   \n",
       "1                         65                      9                  1006.7   \n",
       "2                         70                      9                  1019.2   \n",
       "3                         84                      6                  1028.1   \n",
       "4                         78                      9                  1026.3   \n",
       "\n",
       "   3pm Temperature (°C)  3pm relative humidity (%)  3pm wind speed (km/h)  \\\n",
       "0                  13.2                       59.0                   11.0   \n",
       "1                  15.1                       54.0                   13.0   \n",
       "2                  13.8                       67.0                    9.0   \n",
       "3                  16.9                       56.0                    9.0   \n",
       "4                  18.8                       65.0                   11.0   \n",
       "\n",
       "   3pm MSL pressure (hPa)     Demand  \n",
       "0                   991.5  207429.46  \n",
       "1                  1008.4  233630.93  \n",
       "2                  1021.3  235672.34  \n",
       "3                  1026.6  224895.28  \n",
       "4                  1023.2  189190.35  "
      ]
     },
     "execution_count": 50,
     "metadata": {},
     "output_type": "execute_result"
    }
   ],
   "source": [
    "weather_demand_df.head()"
   ]
  },
  {
   "cell_type": "code",
   "execution_count": 51,
   "metadata": {},
   "outputs": [
    {
     "name": "stdout",
     "output_type": "stream",
     "text": [
      "Date                                 datetime64[ns]\n",
      "Minimum temperature (°C)                    float64\n",
      "Maximum temperature (°C)                    float64\n",
      "Rainfall (mm)                               float64\n",
      "Speed of maximum wind gust (km/h)           float64\n",
      "9am Temperature (°C)                        float64\n",
      "9am relative humidity (%)                     int64\n",
      "9am wind speed (km/h)                         int64\n",
      "9am MSL pressure (hPa)                      float64\n",
      "3pm Temperature (°C)                        float64\n",
      "3pm relative humidity (%)                   float64\n",
      "3pm wind speed (km/h)                       float64\n",
      "3pm MSL pressure (hPa)                      float64\n",
      "Demand                                      float64\n",
      "dtype: object\n"
     ]
    }
   ],
   "source": [
    "print(weather_demand_df.dtypes)"
   ]
  },
  {
   "cell_type": "code",
   "execution_count": 52,
   "metadata": {},
   "outputs": [],
   "source": [
    "weather_demand_df.to_csv('weather_demand_df.csv', index=False)"
   ]
  }
 ],
 "metadata": {
  "kernelspec": {
   "display_name": "Python 3",
   "language": "python",
   "name": "python3"
  },
  "language_info": {
   "codemirror_mode": {
    "name": "ipython",
    "version": 3
   },
   "file_extension": ".py",
   "mimetype": "text/x-python",
   "name": "python",
   "nbconvert_exporter": "python",
   "pygments_lexer": "ipython3",
   "version": "3.7.4"
  }
 },
 "nbformat": 4,
 "nbformat_minor": 4
}
